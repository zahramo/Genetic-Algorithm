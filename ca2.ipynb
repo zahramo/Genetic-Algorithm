{
 "cells": [
  {
   "cell_type": "markdown",
   "metadata": {},
   "source": [
    "# Computer Assignment 2, Genetic Algorithms"
   ]
  },
  {
   "cell_type": "markdown",
   "metadata": {},
   "source": [
    "### In this project, our goal is to use genetic algorithms to select the gates in a logic circuit in such a way that by applying the inputs, we get the corresponding output according to the truth table."
   ]
  },
  {
   "cell_type": "markdown",
   "metadata": {},
   "source": [
    "## Reading Data\n",
    "The input is as follows:\n",
    "The truth_table.csv file contains n columns, the first n-1 columns are the inputs of the logic circuit and the last column is the output. In each output row, it represents the output of the circuit if the inputs in the same row are applied."
   ]
  },
  {
   "cell_type": "code",
   "execution_count": 1,
   "metadata": {},
   "outputs": [],
   "source": [
    "import csv\n",
    "\n",
    "def read_input_file():\n",
    "    data = []\n",
    "    with open('truth_table.csv') as csv_file:\n",
    "        csv_reader = csv.reader(csv_file, delimiter=',')\n",
    "        line = 0\n",
    "        for row in csv_reader:\n",
    "            if line != 0:\n",
    "                data.append(row)\n",
    "            line += 1\n",
    "    return data"
   ]
  },
  {
   "cell_type": "code",
   "execution_count": 2,
   "metadata": {},
   "outputs": [],
   "source": [
    "def initial_samples(data):\n",
    "    input_samples = []\n",
    "    output_samples = []\n",
    "    for sample in data:\n",
    "        input_samples.append(sample[:-1])\n",
    "        output_samples.append(sample[-1])\n",
    "    return input_samples, output_samples, len(input_samples), len(input_samples[0])-1"
   ]
  },
  {
   "cell_type": "markdown",
   "metadata": {},
   "source": [
    "## Logical gates\n",
    "\n",
    "The gates in question are And, Or, Xor, Nand, Nor and Xnor, whose functionality is implemented in the Operator class, and for ease of implementation, they correspond to the numbers 1, 2, 3, 4, 5, and 6, respectively."
   ]
  },
  {
   "cell_type": "code",
   "execution_count": 3,
   "metadata": {},
   "outputs": [],
   "source": [
    "class Operator:\n",
    "    @staticmethod\n",
    "    def and_(a , b):\n",
    "        return a and b\n",
    "    @staticmethod\n",
    "    def or_(a , b):\n",
    "        return a or b\n",
    "    @staticmethod\n",
    "    def xor_(a , b):\n",
    "        return a ^ b\n",
    "    @staticmethod\n",
    "    def nand_(a , b):\n",
    "        return not (a and b)\n",
    "    @staticmethod\n",
    "    def nor_(a , b):\n",
    "        return not (a or b)\n",
    "    @staticmethod\n",
    "    def xnor_(a , b):\n",
    "        return not (a ^ b)\n",
    "\n",
    "def initial_gates():\n",
    "    gates = {\n",
    "        1: Operator.and_,\n",
    "        2: Operator.or_,\n",
    "        3: Operator.xor_,\n",
    "        4: Operator.nand_,\n",
    "        5: Operator.nor_,\n",
    "        6: Operator.xnor_,\n",
    "    }\n",
    "    return gates"
   ]
  },
  {
   "cell_type": "markdown",
   "metadata": {},
   "source": [
    "## Circuit\n",
    "\n",
    "The following function calculates the output according to the order of the gates and according to the input of circuit."
   ]
  },
  {
   "cell_type": "code",
   "execution_count": 4,
   "metadata": {},
   "outputs": [],
   "source": [
    "def get_circuit_output(getes_num, inputs):\n",
    "    out = 0\n",
    "    in1 = get_boolean(inputs[0])\n",
    "    in_index = 1\n",
    "    for num in getes_num :\n",
    "        in2 = get_boolean(inputs[in_index])\n",
    "        out = gates[num](in1, in2)\n",
    "        in1 = out \n",
    "        in_index += 1\n",
    "    return out\n",
    "\n",
    "def get_boolean(s):\n",
    "    if s == 'TRUE':\n",
    "        return True\n",
    "    elif s == 'FALSE':\n",
    "        return False"
   ]
  },
  {
   "cell_type": "markdown",
   "metadata": {},
   "source": [
    "## Phase 1, Basic concepts"
   ]
  },
  {
   "cell_type": "markdown",
   "metadata": {},
   "source": [
    "### Gene\n",
    "Here, each gate used in the circuit represents a gene."
   ]
  },
  {
   "cell_type": "markdown",
   "metadata": {},
   "source": [
    "### Chromosomr\n",
    "A chromosome is a string of genes, since in this case the gates represent genes, the chromosome is a string of gates whose order is important. Because the components of the circuit are arranged in the order said in the project."
   ]
  },
  {
   "cell_type": "code",
   "execution_count": 5,
   "metadata": {},
   "outputs": [],
   "source": [
    "class Chromosome :\n",
    "    def __init__(self, genes):\n",
    "        self.genes = genes\n",
    "\n",
    "    def fitness(self):\n",
    "        success = 0\n",
    "        for i in range(number_of_samples):\n",
    "            if get_circuit_output(self.genes, input_samples[i]) == get_boolean(output_samples[i]):\n",
    "                success += 1\n",
    "        return success/number_of_samples"
   ]
  },
  {
   "cell_type": "markdown",
   "metadata": {},
   "source": [
    "## Phase 2, Generate base population\n",
    "\n",
    "Since the generation of the initial population must be random. Here we produce POPULATION_SIZE chromosomes with completely random genes.\n",
    "The number of people in the initial population is a hyper parameter and should be chosen depending on the type of problem. The larger number of people, the longer length of a loop, and the smaller number, the higher number of loops."
   ]
  },
  {
   "cell_type": "code",
   "execution_count": 7,
   "metadata": {},
   "outputs": [],
   "source": [
    "import numpy as np\n",
    "\n",
    "POPULATION_SIZE = 50\n",
    "\n",
    "def generate_basic_population():\n",
    "    population = []\n",
    "    new_population_genes = np.random.choice(range(1,7), size=(POPULATION_SIZE, number_of_genes)).tolist()\n",
    "    for genes in new_population_genes :\n",
    "        population.append(Chromosome(genes))\n",
    "    return population"
   ]
  },
  {
   "cell_type": "markdown",
   "metadata": {},
   "source": [
    "## Phase 3, Fitness\n",
    "\n",
    "Each chromosome has a fitness function. To calculate it, we first place the gates, which are chromosome genes, in the circuit in order, and then obtain the output of the circuit for all the input strings. Chromosome fitness value is the division of the correct number of outputs by the total output."
   ]
  },
  {
   "cell_type": "markdown",
   "metadata": {},
   "source": [
    "## Phase 4, Selection, Crossover, Mutation and next population"
   ]
  },
  {
   "cell_type": "markdown",
   "metadata": {},
   "source": [
    "### Selection"
   ]
  },
  {
   "cell_type": "code",
   "execution_count": 9,
   "metadata": {},
   "outputs": [],
   "source": [
    "import random\n",
    "\n",
    "def calculate_all_fitnesses(mating_pool):\n",
    "    fitnesses = []\n",
    "    max_fitness = 0\n",
    "    for chromosome in mating_pool:\n",
    "        fitness = chromosome.fitness()\n",
    "        if fitness > max_fitness:\n",
    "            max_fitness = fitness\n",
    "        fitnesses.append((chromosome, chromosome.fitness()))\n",
    "    return sorted(fitnesses, key=lambda item: item[1]), max_fitness"
   ]
  },
  {
   "cell_type": "markdown",
   "metadata": {},
   "source": [
    "#### New Idea\n",
    "\n",
    "Here, after sorting the chromosomes according to their fitness value, we pass on the number of the ones that have the highest amount of fitness directly to the next generation, because it makes the maximum amount of fitness in each loop does not decrease and we force it to Reach the result sooner."
   ]
  },
  {
   "cell_type": "code",
   "execution_count": 43,
   "metadata": {},
   "outputs": [],
   "source": [
    "DIRECT_GENERATION_SIZE = int(0.16 * POPULATION_SIZE)"
   ]
  },
  {
   "cell_type": "markdown",
   "metadata": {},
   "source": [
    "#### 1 - Rank base selection\n",
    "\n",
    "In this type, we first calculate the fitness value of all chromosomes. Then we sort these values in ascending order. The probability of the presence of each chromosome in the next generation is equal to dividing its rank by the total number of chromosomes."
   ]
  },
  {
   "cell_type": "code",
   "execution_count": 10,
   "metadata": {},
   "outputs": [],
   "source": [
    "def rank_base_selection(mating_pool):\n",
    "    direct_generation = []\n",
    "    fitnesses, max_fitness = calculate_all_fitnesses(mating_pool)\n",
    "    for i in range(DIRECT_GENERATION_SIZE):\n",
    "        direct_generation.append(fitnesses[POPULATION_SIZE - DIRECT_GENERATION_SIZE + i][0])\n",
    "    probablities = [x / POPULATION_SIZE for x in range(1, POPULATION_SIZE + 1)]\n",
    "    return random.choices([i[0] for i in fitnesses], weights=probablities, k=POPULATION_SIZE - DIRECT_GENERATION_SIZE), max_fitness, direct_generation"
   ]
  },
  {
   "cell_type": "markdown",
   "metadata": {},
   "source": [
    "#### 2 - Fitness proportionate election\n",
    "\n",
    "In this type, we first calculate the fitness value of all chromosomes. Then we sort these values in ascending order. The probability of the presence of each chromosome in the next community is equal to dividing its fitness value by the sum of the total fitness."
   ]
  },
  {
   "cell_type": "code",
   "execution_count": 11,
   "metadata": {},
   "outputs": [],
   "source": [
    "def proportionate_selection(mating_pool):\n",
    "    direct_generation = []\n",
    "    fitnesses, max_fitness = calculate_all_fitnesses(mating_pool)\n",
    "    for i in range(DIRECT_GENERATION_SIZE):\n",
    "        direct_generation.append(fitnesses[POPULATION_SIZE - DIRECT_GENERATION_SIZE + i][0])\n",
    "    sum_of_fitnesses = 0\n",
    "    for fitness in fitnesses:\n",
    "        sum_of_fitnesses += fitness[1]\n",
    "    probablities = [fitness[1] / sum_of_fitnesses for fitness in fitnesses]\n",
    "    return random.choices([i[0] for i in fitnesses], weights=probablities, k=POPULATION_SIZE - DIRECT_GENERATION_SIZE), max_fitness, direct_generation"
   ]
  },
  {
   "cell_type": "markdown",
   "metadata": {},
   "source": [
    "### Crossover"
   ]
  },
  {
   "cell_type": "code",
   "execution_count": 13,
   "metadata": {},
   "outputs": [],
   "source": [
    "def mix_genes(points, chromosome1, chromosome2):\n",
    "    child1 = []\n",
    "    child2 = []\n",
    "    parent1 = chromosome1.genes\n",
    "    parent2 = chromosome2.genes\n",
    "    temp = []\n",
    "    last_point = 0\n",
    "\n",
    "    for point in points:\n",
    "        for gene in parent2[last_point:point]: child1.append(gene)\n",
    "        for gene in parent1[last_point:point]: child2.append(gene)\n",
    "        \n",
    "        last_point = point\n",
    "        temp = parent1\n",
    "        parent1 = parent2\n",
    "        parent2 = temp\n",
    "\n",
    "    return Chromosome(child1), Chromosome(child2)"
   ]
  },
  {
   "cell_type": "markdown",
   "metadata": {},
   "source": [
    "#### 1 - N point crossover\n",
    "\n",
    "In this type, the genes on both chromosomes are broken down into n+1 parts by n points, and these parts move between each other and make children."
   ]
  },
  {
   "cell_type": "code",
   "execution_count": 14,
   "metadata": {},
   "outputs": [],
   "source": [
    "def n_point_cross_over(n, chromosome1, chromosome2):\n",
    "    points = np.random.choice(range(1, number_of_genes), replace=False, size=n).tolist()\n",
    "    points.append(number_of_genes)\n",
    "    return mix_genes(sorted(points), chromosome1, chromosome2)"
   ]
  },
  {
   "cell_type": "markdown",
   "metadata": {},
   "source": [
    "#### 2 - Uniform crossover\n",
    "\n",
    "In this type, the number of points is not constant and it is randomly decided which parts of the two strings are broken."
   ]
  },
  {
   "cell_type": "code",
   "execution_count": 15,
   "metadata": {},
   "outputs": [],
   "source": [
    "def uniform_cross_over(chromosome1, chromosome2):\n",
    "    points = []\n",
    "    for i in range(1, number_of_genes):\n",
    "        is_point = np.random.choice((True, False)).tolist()\n",
    "        if is_point: points.append(i)\n",
    "    points.append(number_of_genes)\n",
    "    return mix_genes(sorted(points), chromosome1, chromosome2)"
   ]
  },
  {
   "cell_type": "markdown",
   "metadata": {},
   "source": [
    "#### Probablity of Crossover\n",
    "\n",
    "Crossover is performed between two parents with PC probability."
   ]
  },
  {
   "cell_type": "code",
   "execution_count": 25,
   "metadata": {},
   "outputs": [],
   "source": [
    "PC = 0.6\n",
    "\n",
    "def decide_to_do_cross_over(chromosome1, chromosome2):\n",
    "    do_cross_over = np.random.choice([True, False], p=[PC, 1-PC])\n",
    "    if do_cross_over:\n",
    "        return n_point_cross_over(2, chromosome1, chromosome2)\n",
    "    return chromosome1, chromosome2"
   ]
  },
  {
   "cell_type": "markdown",
   "metadata": {},
   "source": [
    "### Mutation\n",
    "\n",
    "Each of the parent genes is replaced with another gene to produce a child with PM probability. Selection of alternative gene is random."
   ]
  },
  {
   "cell_type": "code",
   "execution_count": 36,
   "metadata": {},
   "outputs": [],
   "source": [
    "PM = 0.1\n",
    "\n",
    "def flip_gene(gene_num):\n",
    "    remain_genes = [x for x in gates.keys() if x != gene_num]\n",
    "    final_gene = np.random.choice(remain_genes)\n",
    "    return final_gene\n",
    "\n",
    "def mutation(chromosome):\n",
    "    for i in range(number_of_genes):\n",
    "        do_flip = np.random.choice([True, False], p=[PM, 1-PM])\n",
    "        if do_flip :\n",
    "            chromosome.genes[i] = flip_gene(chromosome.genes[i])\n",
    "    return chromosome"
   ]
  },
  {
   "cell_type": "markdown",
   "metadata": {},
   "source": [
    "### Next population\n",
    "\n",
    "In general, the following happens in each loop of the genetic algorithm:\n",
    "- Sort chromosomes according to the amount of fitness and generate mating pool from them according to one of the Selection algorithms\n",
    "- Shuffle the mating pool\n",
    "- Apply Crossover algorithm between pairs of chromosomes\n",
    "- Apply Mutation algorithm on each chromosome"
   ]
  },
  {
   "cell_type": "markdown",
   "metadata": {},
   "source": [
    "#### Initial values"
   ]
  },
  {
   "cell_type": "code",
   "execution_count": 22,
   "metadata": {},
   "outputs": [],
   "source": [
    "def initial_samples(data):\n",
    "    input_samples = []\n",
    "    output_samples = []\n",
    "    for sample in data:\n",
    "        input_samples.append(sample[:-1])\n",
    "        output_samples.append(sample[-1])\n",
    "    return input_samples, output_samples, len(input_samples), len(input_samples[0])-1\n",
    "\n",
    "def initial_gates():\n",
    "    gates = {\n",
    "        1: Operator.and_,\n",
    "        2: Operator.or_,\n",
    "        3: Operator.xor_,\n",
    "        4: Operator.nand_,\n",
    "        5: Operator.nor_,\n",
    "        6: Operator.xnor_,\n",
    "    }\n",
    "    return gates"
   ]
  },
  {
   "cell_type": "code",
   "execution_count": 23,
   "metadata": {},
   "outputs": [],
   "source": [
    "data = read_input_file()\n",
    "input_samples, output_samples, number_of_samples, number_of_genes = initial_samples(data)\n",
    "gates = initial_gates()"
   ]
  },
  {
   "cell_type": "markdown",
   "metadata": {},
   "source": [
    "#### Genetic Algorithm"
   ]
  },
  {
   "cell_type": "code",
   "execution_count": 20,
   "metadata": {},
   "outputs": [],
   "source": [
    "import copy\n",
    "\n",
    "MAX_REPEAT = 150\n",
    "SAME_FITNESS_LIMIT = POPULATION_SIZE/2\n",
    "\n",
    "def genetic_algorithm():\n",
    "    population = generate_basic_population()\n",
    "    max_fitness = 0\n",
    "    repeat = 0\n",
    "    result = 0\n",
    "    number_of_same_fitness = 0\n",
    "    last_fitness = 0\n",
    "    while max_fitness != 1 and  repeat != MAX_REPEAT:\n",
    "        if number_of_same_fitness == SAME_FITNESS_LIMIT:\n",
    "            population = generate_basic_population()\n",
    "        repeat += 1\n",
    "        mating_pool, max_fitness, direct_generation = rank_base_selection(population)\n",
    "        if max_fitness == last_fitness:\n",
    "            number_of_same_fitness += 1\n",
    "        else:\n",
    "            number_of_same_fitness = 0\n",
    "        print(max_fitness)\n",
    "        new_generation = direct_generation\n",
    "        if max_fitness > result:\n",
    "            result = max_fitness\n",
    "        random.shuffle(mating_pool)\n",
    "        for i in range(0, POPULATION_SIZE - DIRECT_GENERATION_SIZE, 2):\n",
    "            chromosome1, chromosome2 = decide_to_do_cross_over(mating_pool[i], mating_pool[i+1])\n",
    "            new_generation.append(mutation(copy.deepcopy(chromosome1)))\n",
    "            new_generation.append(mutation(copy.deepcopy(chromosome2)))\n",
    "        population = new_generation\n",
    "        last_fitness = max_fitness\n",
    "    return result, repeat"
   ]
  },
  {
   "cell_type": "code",
   "execution_count": 44,
   "metadata": {
    "scrolled": true
   },
   "outputs": [
    {
     "name": "stdout",
     "output_type": "stream",
     "text": [
      "0.8671875\n",
      "0.90625\n",
      "0.90625\n",
      "0.90625\n",
      "0.9375\n",
      "0.9375\n",
      "0.94921875\n",
      "0.953125\n",
      "0.9609375\n",
      "0.96875\n",
      "0.96875\n",
      "0.96875\n",
      "0.96875\n",
      "0.96875\n",
      "0.96875\n",
      "0.984375\n",
      "0.984375\n",
      "0.984375\n",
      "1.0\n",
      "(1.0, 19) 8.892204999923706\n"
     ]
    }
   ],
   "source": [
    "import time\n",
    "\n",
    "start = time.time()\n",
    "print(genetic_algorithm(),  time.time() - start)"
   ]
  },
  {
   "cell_type": "markdown",
   "metadata": {},
   "source": [
    "## Phase 5, Questions"
   ]
  },
  {
   "cell_type": "markdown",
   "metadata": {},
   "source": [
    "<ol>\n",
    "<li> The fitness must have an accurate estimate of the quality of the solution. Here again, because we want to finally get the order of the gates to print the correct output for all input strings, we take the fitness as the percentage of correct output.\n",
    "Although the fitness function should not only correlate closely with the designer's goal, but it should also be computationally efficient. Speed of execution is very important, as a typical genetic algorithm must be iterated many times in order to produce a usable result for a non-trivial problem.\n",
    "\n",
    " <li> Ranke base selection is used here because in the other one (FPS) when the fitness value of one chromosome is much higher than the next chromosomes, it is much more likely to be selected, which means that some good and helpful genes are not used.\n",
    "\n",
    "<li> N point crossover was used here to implement crossover because we did not want to make too many changes.\n",
    "In general, the crossover algorithm is used to create children by combining two parents who have not been able to get us to the correct answer.\n",
    "And the mutation algorithm is used to change existing genes to other genes in the hope of improving performance. The probability is usually considered a small number so that population converges more quickly.\n",
    "\n",
    "<li> When the best answer we have in several consecutive loops remains constant, it means that we have reached a state where we do not get a better answer despite the combinations we make, so the initial population is probably not suitable or has not gone well due to the changes. In these cases, we can randomly generate a population again and continue.\n",
    "This is likely to happen, especially here when the best people go direct to the next generation.\n",
    "In other words, from one place to another, more people in population become like each other while they are far from the right answer(local max). So with a small change, the genes do not get better, and it is best to change population."
   ]
  }
 ],
 "metadata": {
  "kernelspec": {
   "display_name": "Python 3",
   "language": "python",
   "name": "python3"
  },
  "language_info": {
   "codemirror_mode": {
    "name": "ipython",
    "version": 3
   },
   "file_extension": ".py",
   "mimetype": "text/x-python",
   "name": "python",
   "nbconvert_exporter": "python",
   "pygments_lexer": "ipython3",
   "version": "3.8.5"
  }
 },
 "nbformat": 4,
 "nbformat_minor": 4
}
